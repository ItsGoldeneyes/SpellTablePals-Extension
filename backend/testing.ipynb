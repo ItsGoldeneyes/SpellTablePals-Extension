{
 "cells": [
  {
   "cell_type": "code",
   "execution_count": 3,
   "metadata": {},
   "outputs": [
    {
     "name": "stdout",
     "output_type": "stream",
     "text": [
      "Error: 500\n"
     ]
    }
   ],
   "source": [
    "import requests\n",
    "import json\n",
    "url = \"https://backend-production-c33b.up.railway.app/user_profiles\"  # Replace with your API URL\n",
    "\n",
    "response = requests.post(url, json={\"session_id\": \"12345236643as\", \"players\": [\"goldeneyes\", \"SneakyHobbitses\", \"SkaJohnny\", \"Tatatonka\"], \"commanders\": [\"goldeneyes\", \"SneakyHobbitses\", \"SkaJohnny\", \"Tatatonka\"]})\n",
    "\n",
    "if response.status_code == 200:\n",
    "    # Request was successful\n",
    "    data = response.json()\n",
    "    # Print json data to console\n",
    "    print(\"Data received from API:\")\n",
    "    print(json.dumps(data, ensure_ascii=False, indent=4))\n",
    "else:\n",
    "    # Request failed\n",
    "    print(\"Error:\", response.status_code)\n"
   ]
  },
  {
   "cell_type": "code",
   "execution_count": 8,
   "metadata": {},
   "outputs": [
    {
     "name": "stdout",
     "output_type": "stream",
     "text": [
      "{\"success\":\"Success\"}\n",
      "\n"
     ]
    }
   ],
   "source": [
    "import requests\n",
    "import json\n",
    "\n",
    "url = \"https://backend-production-c33b.up.railway.app/process_games\"\n",
    "\n",
    "payload={}\n",
    "\n",
    "response = requests.post(url, data=payload)\n",
    "\n",
    "print(response.text)"
   ]
  },
  {
   "cell_type": "code",
   "execution_count": 30,
   "metadata": {},
   "outputs": [
    {
     "name": "stdout",
     "output_type": "stream",
     "text": [
      "{\"status\":\"Success\"}\n",
      "\n"
     ]
    }
   ],
   "source": [
    "import requests\n",
    "import json\n",
    "\n",
    "url = \"https://backend-production-c33b.up.railway.app/update_pal_profiles\"\n",
    "\n",
    "payload={\"12345236642ss23as\": {\"role\": \"council\", \"username\": \"Icarus\"}}\n",
    "\n",
    "response = requests.post(url, json=payload)\n",
    "\n",
    "print(response.text)"
   ]
  },
  {
   "cell_type": "code",
   "execution_count": 29,
   "metadata": {},
   "outputs": [
    {
     "name": "stdout",
     "output_type": "stream",
     "text": [
      "{\"status\":\"Failed: chill\"}\n",
      "\n"
     ]
    }
   ],
   "source": [
    "import requests\n",
    "import json\n",
    "\n",
    "url = \"https://backend-production-c33b.up.railway.app/block_user\"\n",
    "\n",
    "payload={\"username\": \"magicmartymar\", \"reason\": \"hehe\"}\n",
    "response = requests.post(url, json=payload)\n",
    "\n",
    "print(response.text)"
   ]
  },
  {
   "cell_type": "code",
   "execution_count": 3,
   "metadata": {},
   "outputs": [
    {
     "name": "stdout",
     "output_type": "stream",
     "text": [
      "{\"blocked_users\":{\"Rust33M00s33\":{\"changed_on\":\"Wed, 03 Jan 2024 00:00:00 GMT\",\"reason\":\"Homophobia\"},\"a random birb\":{\"changed_on\":\"Wed, 17 Jan 2024 00:00:00 GMT\",\"reason\":\"toxic, homophobic\"},\"angel of darkness\":{\"changed_on\":\"Fri, 29 Dec 2023 00:00:00 GMT\",\"reason\":\"racist\"},\"big\":{\"changed_on\":\"Fri, 29 Dec 2023 00:00:00 GMT\",\"reason\":\"piece of work\"},\"bovine\":{\"changed_on\":\"Fri, 29 Dec 2023 00:00:00 GMT\",\"reason\":\"unhinged, aggressive\"},\"captain awesomesauce\":{\"changed_on\":\"Mon, 08 Jan 2024 00:00:00 GMT\",\"reason\":\"misrepresenting/lying about deck's power level/capabilities\"},\"el.f.b. zero\":{\"changed_on\":\"Wed, 03 Jan 2024 00:00:00 GMT\",\"reason\":\"Rudeness, bragging about playing MTG for 25 years and calling people who play certain commanders degenerates\"},\"gavyn\":{\"changed_on\":\"Thu, 11 Jan 2024 00:00:00 GMT\",\"reason\":\"pubstomping +/- cheating\"},\"igao02\":{\"changed_on\":\"Fri, 29 Dec 2023 00:00:00 GMT\",\"reason\":\"always bails midgame\"},\"johnny d\":{\"changed_on\":\"Fri, 29 Dec 2023 00:00:00 GMT\",\"reason\":\"timesink\"},\"jws072394\":{\"changed_on\":\"Fri, 29 Dec 2023 00:00:00 GMT\",\"reason\":\"aggressive\"},\"luna\":{\"changed_on\":\"Fri, 29 Dec 2023 00:00:00 GMT\",\"reason\":\"timesink\"},\"mackf72\":{\"changed_on\":null,\"reason\":\"unwilling to have a rule zero pregame talk and became abrasive due to it\"},\"mikeythanos\":{\"changed_on\":null,\"reason\":\"admitted to playing land destruction decks without announcing before game for his own pleasure\"},\"noble corp\":{\"changed_on\":\"Sun, 07 Jan 2024 00:00:00 GMT\",\"reason\":\"abrasive and rude because or targeted removal\"},\"optimus prime guy\":{\"changed_on\":\"Fri, 29 Dec 2023 00:00:00 GMT\",\"reason\":\"creepy, abrasive\"},\"photon fi\":{\"changed_on\":\"Fri, 29 Dec 2023 00:00:00 GMT\",\"reason\":\"pubstomper or cheater\"},\"pothead420211\":{\"changed_on\":\"Fri, 29 Dec 2023 00:00:00 GMT\",\"reason\":\"bails midgame\"},\"quazarimage\":{\"changed_on\":\"Fri, 29 Dec 2023 00:00:00 GMT\",\"reason\":\"hate speech, creepy\"},\"robinshot\":{\"changed_on\":\"Fri, 29 Dec 2023 00:00:00 GMT\",\"reason\":\"racist, homophobic, aggressive\"},\"sledge\":{\"changed_on\":\"Mon, 15 Jan 2024 00:00:00 GMT\",\"reason\":\"pubstomping\"},\"tankavenger\":{\"changed_on\":\"Mon, 15 Jan 2024 00:00:00 GMT\",\"reason\":\"suspect cheating, bail midgame after board wipe/rocks blown up\"},\"valdor420\":{\"changed_on\":\"Fri, 29 Dec 2023 00:00:00 GMT\",\"reason\":\"transphobic\"},\"zombichucknorris\":{\"changed_on\":\"Fri, 29 Dec 2023 00:00:00 GMT\",\"reason\":\"transphobic\"}}}\n",
      "\n"
     ]
    }
   ],
   "source": [
    "import requests\n",
    "import json\n",
    "\n",
    "url = \"https://extension-backend-preproduction.up.railway.app/get_blocked_users\"\n",
    "\n",
    "response = requests.get(url)\n",
    "\n",
    "print(response.text)\n"
   ]
  },
  {
   "cell_type": "code",
   "execution_count": null,
   "metadata": {},
   "outputs": [],
   "source": []
  }
 ],
 "metadata": {
  "kernelspec": {
   "display_name": "Python 3",
   "language": "python",
   "name": "python3"
  },
  "language_info": {
   "codemirror_mode": {
    "name": "ipython",
    "version": 3
   },
   "file_extension": ".py",
   "mimetype": "text/x-python",
   "name": "python",
   "nbconvert_exporter": "python",
   "pygments_lexer": "ipython3",
   "version": "3.9.13"
  }
 },
 "nbformat": 4,
 "nbformat_minor": 2
}
